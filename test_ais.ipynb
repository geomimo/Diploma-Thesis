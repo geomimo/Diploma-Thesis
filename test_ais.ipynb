{
    "cells": [
        {
            "cell_type": "code",
            "execution_count": null,
            "source": [
                "from utils import real_test"
            ],
            "outputs": [],
            "metadata": {}
        },
        {
            "cell_type": "code",
            "execution_count": null,
            "source": [
                "# Uncomment the line below to re-calculate the ms.csv. This may take time (15min - 30min)!\r\n",
                "# First you have to fill the json values in dbcon.json!\r\n",
                "# real_test(i = 0, preprocess = True)"
            ],
            "outputs": [],
            "metadata": {}
        },
        {
            "cell_type": "code",
            "execution_count": null,
            "source": [
                "real_test(i = 0, preprocess = False)"
            ],
            "outputs": [],
            "metadata": {}
        },
        {
            "cell_type": "code",
            "execution_count": null,
            "source": [
                "real_test(i = 1, preprocess = False)"
            ],
            "outputs": [],
            "metadata": {}
        },
        {
            "cell_type": "code",
            "execution_count": null,
            "source": [
                "real_test(i = 2, preprocess=False)"
            ],
            "outputs": [],
            "metadata": {}
        },
        {
            "cell_type": "code",
            "execution_count": null,
            "source": [
                "real_test(i = 3, preprocess=False)"
            ],
            "outputs": [],
            "metadata": {}
        },
        {
            "cell_type": "code",
            "execution_count": null,
            "source": [
                "# Provide your values to test.\r\n",
                "# interval = 60*60*24*30 # 30 days\r\n",
                "# w = 4\r\n",
                "# g_clustering_args = {\"eps\": 0.010, \"min_samples\": 4}\r\n",
                "# v_clustering_args = {\"eps\": 0.010, \"min_samples\": 4}\r\n",
                "# a = 0.01\r\n",
                "# real_test(interval = interval, \r\n",
                "#           w = w, \r\n",
                "#           g_clustering_args = g_clustering_args, \r\n",
                "#           v_clustering_args = v_clustering_args, \r\n",
                "#           a = a)"
            ],
            "outputs": [],
            "metadata": {}
        }
    ],
    "metadata": {
        "orig_nbformat": 4,
        "language_info": {
            "name": "python",
            "version": "3.8.10",
            "mimetype": "text/x-python",
            "codemirror_mode": {
                "name": "ipython",
                "version": 3
            },
            "pygments_lexer": "ipython3",
            "nbconvert_exporter": "python",
            "file_extension": ".py"
        },
        "kernelspec": {
            "name": "python3",
            "display_name": "Python 3.8.10 64-bit ('thesis': conda)"
        },
        "interpreter": {
            "hash": "0464bd68057934d77746fee3d675d15c0bcd4c672f6c1bdfbfda3f625308f298"
        }
    },
    "nbformat": 4,
    "nbformat_minor": 2
}