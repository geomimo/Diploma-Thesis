{
 "cells": [
  {
   "cell_type": "code",
   "execution_count": null,
   "source": [
    "from utils import dummy_test"
   ],
   "outputs": [],
   "metadata": {}
  },
  {
   "cell_type": "code",
   "execution_count": null,
   "source": [
    "dummy_test(i = 0)"
   ],
   "outputs": [],
   "metadata": {}
  },
  {
   "cell_type": "code",
   "execution_count": null,
   "source": [
    "dummy_test(i = 1) "
   ],
   "outputs": [],
   "metadata": {}
  },
  {
   "cell_type": "code",
   "execution_count": null,
   "source": [
    "dummy_test(i = 2)"
   ],
   "outputs": [],
   "metadata": {}
  },
  {
   "cell_type": "code",
   "execution_count": null,
   "source": [
    "dummy_test(i = 3)"
   ],
   "outputs": [],
   "metadata": {}
  },
  {
   "cell_type": "code",
   "execution_count": null,
   "source": [
    "# Provide your values to test.\r\n",
    "# N = 7500\r\n",
    "# n_clusters = 3\r\n",
    "# time_range = 500\r\n",
    "# interval = 50\r\n",
    "# w = 5\r\n",
    "# g_clustering_args = {\"eps\": 0.015, \"min_samples\": 6}\r\n",
    "# v_clustering_args = {\"eps\": 0.010, \"min_samples\": 3}\r\n",
    "# a = 0.01\r\n",
    "# random_state = 15\r\n",
    "# dummy_test(N=N, \r\n",
    "#            n_clusters=n_clusters, \r\n",
    "#            time_range=time_range, \r\n",
    "#            interval=interval, \r\n",
    "#            w=w, \r\n",
    "#            random_state=random_state, \r\n",
    "#            g_clustering_args=g_clustering_args, \r\n",
    "#            v_clustering_args=v_clustering_args, \r\n",
    "#            a=a)"
   ],
   "outputs": [],
   "metadata": {}
  }
 ],
 "metadata": {
  "interpreter": {
   "hash": "e0b959bec9bf06a823c6510db2b7e3b4b9d6c675cd789135d03e21b6c0117f8d"
  },
  "kernelspec": {
   "name": "python3",
   "display_name": "Python 3.8.10 64-bit ('thesis': conda)"
  },
  "language_info": {
   "codemirror_mode": {
    "name": "ipython",
    "version": 3
   },
   "file_extension": ".py",
   "mimetype": "text/x-python",
   "name": "python",
   "nbconvert_exporter": "python",
   "pygments_lexer": "ipython3",
   "version": "3.8.10"
  },
  "orig_nbformat": 4
 },
 "nbformat": 4,
 "nbformat_minor": 2
}